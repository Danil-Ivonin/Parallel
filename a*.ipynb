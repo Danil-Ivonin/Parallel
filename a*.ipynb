{
 "cells": [
  {
   "cell_type": "code",
   "execution_count": 2,
   "metadata": {},
   "outputs": [],
   "source": [
    "import matplotlib.image as mpimg\n",
    "import matplotlib.pyplot as plt\n",
    "import numpy as np\n"
   ]
  },
  {
   "cell_type": "code",
   "execution_count": 15,
   "metadata": {},
   "outputs": [],
   "source": [
    "image = mpimg.imread('Path.jpeg')\n",
    "path = np.zeros((len(image), len(image)))\n",
    "for i in range(len(image)):\n",
    "    for j in range(len(image[0])):\n",
    "        if image[i][j][0] > 100:\n",
    "            path[i][j] = 0\n",
    "        else:\n",
    "            path[i][j] = 1"
   ]
  },
  {
   "cell_type": "code",
   "execution_count": null,
   "metadata": {},
   "outputs": [],
   "source": [
    "arr = []\n",
    "if (len(arr) == 0):\n",
    "    print('Arr is empty!')"
   ]
  },
  {
   "cell_type": "code",
   "execution_count": 57,
   "metadata": {},
   "outputs": [],
   "source": [
    "path = [[1, 1, 1, 1, 1],\n",
    "        [0, 0, 0, 0, 1],\n",
    "        [1, 1, 1, 1, 1],\n",
    "        [1, 0, 0, 0, 0],\n",
    "        [1, 1, 1, 1, 1],]\n",
    "\n",
    "path[0][0] = 2\n",
    "path[4][4] = 2"
   ]
  },
  {
   "cell_type": "code",
   "execution_count": 58,
   "metadata": {},
   "outputs": [
    {
     "data": {
      "image/png": "[encoded data removed]",
      "text/plain": [
       "<Figure size 480x480 with 1 Axes>"
      ]
     },
     "metadata": {},
     "output_type": "display_data"
    }
   ],
   "source": [
    "plt.matshow(path)\n",
    "plt.show()"
   ]
  },
  {
   "cell_type": "code",
   "execution_count": 53,
   "metadata": {},
   "outputs": [],
   "source": [
    "np.savetxt('in_path.txt',path, fmt='%d')"
   ]
  },
  {
   "cell_type": "code",
   "execution_count": 30,
   "metadata": {},
   "outputs": [],
   "source": [
    "result = np.loadtxt('out_path.txt')"
   ]
  },
  {
   "cell_type": "code",
   "execution_count": 5,
   "metadata": {},
   "outputs": [
    {
     "name": "stdout",
     "output_type": "stream",
     "text": [
      "jon\n",
      "den\n",
      "kate\n"
     ]
    }
   ],
   "source": [
    "class Person():\n",
    "    def __init__(self, name, age):\n",
    "        self.name = name\n",
    "        self.age = age\n",
    "\n",
    "a = Person('jon', 20)\n",
    "b = Person('den', 22)\n",
    "c = Person('kate', 10)\n",
    "\n",
    "arr = [a, b]\n",
    "arr.append(c)\n",
    "\n",
    "for i in range(len(arr)):\n",
    "    print(arr[i].name)"
   ]
  },
  {
   "cell_type": "code",
   "execution_count": 3,
   "metadata": {},
   "outputs": [
    {
     "name": "stdout",
     "output_type": "stream",
     "text": [
      "The destination cell is found\n",
      "The Path is \n",
      "-> (8, 0) -> (7, 0) -> (6, 0) -> (5, 0) -> (4, 1) -> (3, 2) -> (2, 1) -> (1, 0) -> (0, 0) \n"
     ]
    }
   ],
   "source": [
    "import math\n",
    "import heapq\n",
    "\n",
    "# Define the Cell class\n",
    "class Cell:\n",
    "\tdef __init__(self):\n",
    "\t\tself.parent_i = 0 # Parent cell's row index\n",
    "\t\tself.parent_j = 0 # Parent cell's column index\n",
    "\t\tself.f = float('inf') # Total cost of the cell (g + h)\n",
    "\t\tself.g = float('inf') # Cost from start to this cell\n",
    "\t\tself.h = 0 # Heuristic cost from this cell to destination\n",
    "\n",
    "# Define the size of the grid\n",
    "ROW = 9\n",
    "COL = 10\n",
    "\n",
    "# Check if a cell is valid (within the grid)\n",
    "def is_valid(row, col):\n",
    "\treturn (row >= 0) and (row < ROW) and (col >= 0) and (col < COL)\n",
    "\n",
    "# Check if a cell is unblocked\n",
    "def is_unblocked(grid, row, col):\n",
    "\treturn grid[row][col] == 1\n",
    "\n",
    "# Check if a cell is the destination\n",
    "def is_destination(row, col, dest):\n",
    "\treturn row == dest[0] and col == dest[1]\n",
    "\n",
    "# Calculate the heuristic value of a cell (Euclidean distance to destination)\n",
    "def calculate_h_value(row, col, dest):\n",
    "\treturn ((row - dest[0]) ** 2 + (col - dest[1]) ** 2) ** 0.5\n",
    "\n",
    "# Trace the path from source to destination\n",
    "def trace_path(cell_details, dest):\n",
    "\tprint(\"The Path is \")\n",
    "\tpath = []\n",
    "\trow = dest[0]\n",
    "\tcol = dest[1]\n",
    "\n",
    "\t# Trace the path from destination to source using parent cells\n",
    "\twhile not (cell_details[row][col].parent_i == row and cell_details[row][col].parent_j == col):\n",
    "\t\tpath.append((row, col))\n",
    "\t\ttemp_row = cell_details[row][col].parent_i\n",
    "\t\ttemp_col = cell_details[row][col].parent_j\n",
    "\t\trow = temp_row\n",
    "\t\tcol = temp_col\n",
    "\n",
    "\t# Add the source cell to the path\n",
    "\tpath.append((row, col))\n",
    "\t# Reverse the path to get the path from source to destination\n",
    "\tpath.reverse()\n",
    "\n",
    "\t# Print the path\n",
    "\tfor i in path:\n",
    "\t\tprint(\"->\", i, end=\" \")\n",
    "\tprint()\n",
    "\n",
    "# Implement the A* search algorithm\n",
    "def a_star_search(grid, src, dest):\n",
    "\t# Check if the source and destination are valid\n",
    "\tif not is_valid(src[0], src[1]) or not is_valid(dest[0], dest[1]):\n",
    "\t\tprint(\"Source or destination is invalid\")\n",
    "\t\treturn\n",
    "\n",
    "\t# Check if the source and destination are unblocked\n",
    "\tif not is_unblocked(grid, src[0], src[1]) or not is_unblocked(grid, dest[0], dest[1]):\n",
    "\t\tprint(\"Source or the destination is blocked\")\n",
    "\t\treturn\n",
    "\n",
    "\t# Check if we are already at the destination\n",
    "\tif is_destination(src[0], src[1], dest):\n",
    "\t\tprint(\"We are already at the destination\")\n",
    "\t\treturn\n",
    "\n",
    "\t# Initialize the closed list (visited cells)\n",
    "\tclosed_list = [[False for _ in range(COL)] for _ in range(ROW)]\n",
    "\t# Initialize the details of each cell\n",
    "\tcell_details = [[Cell() for _ in range(COL)] for _ in range(ROW)]\n",
    "\n",
    "\t# Initialize the start cell details\n",
    "\ti = src[0]\n",
    "\tj = src[1]\n",
    "\tcell_details[i][j].f = 0\n",
    "\tcell_details[i][j].g = 0\n",
    "\tcell_details[i][j].h = 0\n",
    "\tcell_details[i][j].parent_i = i\n",
    "\tcell_details[i][j].parent_j = j\n",
    "\n",
    "\t# Initialize the open list (cells to be visited) with the start cell\n",
    "\topen_list = []\n",
    "\theapq.heappush(open_list, (0.0, i, j))\n",
    "\n",
    "\t# Initialize the flag for whether destination is found\n",
    "\tfound_dest = False\n",
    "\n",
    "\t# Main loop of A* search algorithm\n",
    "\twhile len(open_list) > 0:\n",
    "\t\t# Pop the cell with the smallest f value from the open list\n",
    "\t\tp = heapq.heappop(open_list)\n",
    "\n",
    "\t\t# Mark the cell as visited\n",
    "\t\ti = p[1]\n",
    "\t\tj = p[2]\n",
    "\t\tclosed_list[i][j] = True\n",
    "\n",
    "\t\t# For each direction, check the successors\n",
    "\t\tdirections = [(0, 1), (0, -1), (1, 0), (-1, 0), (1, 1), (1, -1), (-1, 1), (-1, -1)]\n",
    "\t\tfor dir in directions:\n",
    "\t\t\tnew_i = i + dir[0]\n",
    "\t\t\tnew_j = j + dir[1]\n",
    "\n",
    "\t\t\t# If the successor is valid, unblocked, and not visited\n",
    "\t\t\tif is_valid(new_i, new_j) and is_unblocked(grid, new_i, new_j) and not closed_list[new_i][new_j]:\n",
    "\t\t\t\t# If the successor is the destination\n",
    "\t\t\t\tif is_destination(new_i, new_j, dest):\n",
    "\t\t\t\t\t# Set the parent of the destination cell\n",
    "\t\t\t\t\tcell_details[new_i][new_j].parent_i = i\n",
    "\t\t\t\t\tcell_details[new_i][new_j].parent_j = j\n",
    "\t\t\t\t\tprint(\"The destination cell is found\")\n",
    "\t\t\t\t\t# Trace and print the path from source to destination\n",
    "\t\t\t\t\ttrace_path(cell_details, dest)\n",
    "\t\t\t\t\tfound_dest = True\n",
    "\t\t\t\t\treturn\n",
    "\t\t\t\telse:\n",
    "\t\t\t\t\t# Calculate the new f, g, and h values\n",
    "\t\t\t\t\tg_new = cell_details[i][j].g + 1.0\n",
    "\t\t\t\t\th_new = calculate_h_value(new_i, new_j, dest)\n",
    "\t\t\t\t\tf_new = g_new + h_new\n",
    "\n",
    "\t\t\t\t\t# If the cell is not in the open list or the new f value is smaller\n",
    "\t\t\t\t\tif cell_details[new_i][new_j].f == float('inf') or cell_details[new_i][new_j].f > f_new:\n",
    "\t\t\t\t\t\t# Add the cell to the open list\n",
    "\t\t\t\t\t\theapq.heappush(open_list, (f_new, new_i, new_j))\n",
    "\t\t\t\t\t\t# Update the cell details\n",
    "\t\t\t\t\t\tcell_details[new_i][new_j].f = f_new\n",
    "\t\t\t\t\t\tcell_details[new_i][new_j].g = g_new\n",
    "\t\t\t\t\t\tcell_details[new_i][new_j].h = h_new\n",
    "\t\t\t\t\t\tcell_details[new_i][new_j].parent_i = i\n",
    "\t\t\t\t\t\tcell_details[new_i][new_j].parent_j = j\n",
    "\n",
    "\t# If the destination is not found after visiting all cells\n",
    "\tif not found_dest:\n",
    "\t\tprint(\"Failed to find the destination cell\")\n",
    "\n",
    "def main():\n",
    "\t# Define the grid (1 for unblocked, 0 for blocked)\n",
    "\tgrid = [\n",
    "\t\t[1, 0, 1, 1, 1, 1, 0, 1, 1, 1],\n",
    "\t\t[1, 1, 1, 0, 1, 1, 1, 0, 1, 1],\n",
    "\t\t[1, 1, 1, 0, 1, 1, 0, 1, 0, 1],\n",
    "\t\t[0, 0, 1, 0, 1, 0, 0, 0, 0, 1],\n",
    "\t\t[1, 1, 1, 0, 1, 1, 1, 0, 1, 0],\n",
    "\t\t[1, 0, 1, 1, 1, 1, 0, 1, 0, 0],\n",
    "\t\t[1, 0, 0, 0, 0, 1, 0, 0, 0, 1],\n",
    "\t\t[1, 0, 1, 1, 1, 1, 0, 1, 1, 1],\n",
    "\t\t[1, 1, 1, 0, 0, 0, 1, 0, 0, 1]\n",
    "\t]\n",
    "\n",
    "\t# Define the source and destination\n",
    "\tsrc = [8, 0]\n",
    "\tdest = [0, 0]\n",
    "\n",
    "\t# Run the A* search algorithm\n",
    "\ta_star_search(grid, src, dest)\n",
    "\n",
    "if __name__ == \"__main__\":\n",
    "\tmain()\n"
   ]
  }
 ],
 "metadata": {
  "kernelspec": {
   "display_name": "Python 3",
   "language": "python",
   "name": "python3"
  },
  "language_info": {
   "codemirror_mode": {
    "name": "ipython",
    "version": 3
   },
   "file_extension": ".py",
   "mimetype": "text/x-python",
   "name": "python",
   "nbconvert_exporter": "python",
   "pygments_lexer": "ipython3",
   "version": "3.10.12"
  }
 },
 "nbformat": 4,
 "nbformat_minor": 2
}
